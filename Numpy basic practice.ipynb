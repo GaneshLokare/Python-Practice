{
 "cells": [
  {
   "cell_type": "markdown",
   "metadata": {
    "colab_type": "text",
    "id": "l0ZzOlyxB-kf"
   },
   "source": [
    "<h1>Python: without numpy or sklearn </h1>"
   ]
  },
  {
   "cell_type": "markdown",
   "metadata": {
    "colab_type": "text",
    "id": "C0xO8JV9B-ki"
   },
   "source": [
    "<h3> Q1: Given two matrices please print the product of those two matrices </h3>\n",
    "<pre>\n",
    "\n",
    "Ex 1: A   = [[1 3 4]\n",
    "             [2 5 7]\n",
    "             [5 9 6]]\n",
    "      B   = [[1 0 0]\n",
    "             [0 1 0]\n",
    "             [0 0 1]]\n",
    "      A*B = [[1 3 4]\n",
    "             [2 5 7]\n",
    "             [5 9 6]]\n",
    "\n",
    "     \n",
    "Ex 2: A   = [[1 2]\n",
    "             [3 4]]\n",
    "      B   = [[1 2 3 4 5]\n",
    "             [5 6 7 8 9]]\n",
    "      A*B = [[11 14 17 20 23]\n",
    "             [23 30 36 42 51]]\n",
    "             \n",
    "Ex 3: A   = [[1 2]\n",
    "             [3 4]]\n",
    "      B   = [[1 4]\n",
    "             [5 6]\n",
    "             [7 8]\n",
    "             [9 6]]\n",
    "      A*B =Not possible\n",
    "</pre>"
   ]
  },
  {
   "cell_type": "code",
   "execution_count": 85,
   "metadata": {
    "colab": {},
    "colab_type": "code",
    "id": "rnssAfpgB-kj"
   },
   "outputs": [
    {
     "data": {
      "text/plain": [
       "[[1, 3, 4], [2, 5, 7], [5, 9, 6]]"
      ]
     },
     "execution_count": 85,
     "metadata": {},
     "output_type": "execute_result"
    }
   ],
   "source": [
    "# here A and B are list of list\n",
    "A   = [[1,3,4],[2,5,7],[5,9,6]]\n",
    "B = [[1,0,0],[0,1,0],[0,0,1]]\n",
    "\n",
    "def matrix_mul(A, B):\n",
    "    mul = [[0 for x in range(len(B[0]))] for y in range(len(A))]\n",
    "    for i in range(len(A)):\n",
    "        for j in range(len(B[0])):\n",
    "        \n",
    "            for k in range(len(B)):\n",
    "            # resulted matrix\n",
    "                mul[i][j] += A[i][k] * B[k][j]\n",
    "\n",
    "    return mul\n",
    "    \n",
    "matrix_mul(A, B)"
   ]
  },
  {
   "cell_type": "markdown",
   "metadata": {
    "colab_type": "text",
    "id": "at4VwLggB-kn"
   },
   "source": [
    "<h3> Q2: Select a number randomly with probability proportional to its magnitude from the given array of n elements</h3>\n",
    "\n",
    "consider an experiment, selecting an element from the list A randomly with probability proportional to its magnitude.\n",
    "assume we are doing the same experiment for 100 times with replacement, in each experiment you will print a number that is selected randomly from A.\n",
    "\n",
    "<pre>\n",
    "Ex 1: A = [0 5 27 6 13 28 100 45 10 79]\n",
    "let f(x) denote the number of times x getting selected in 100 experiments.\n",
    "f(100) > f(79) > f(45) > f(28) > f(27) > f(13) > f(10) > f(6) > f(5) > f(0)\n",
    "</pre>"
   ]
  },
  {
   "cell_type": "code",
   "execution_count": 20,
   "metadata": {
    "colab": {},
    "colab_type": "code",
    "id": "B6S2dpBhB-kn"
   },
   "outputs": [
    {
     "name": "stdout",
     "output_type": "stream",
     "text": [
      "[10]\n",
      "[79]\n",
      "[100]\n",
      "[45]\n",
      "[28]\n",
      "[10]\n",
      "[79]\n",
      "[100]\n",
      "[79]\n",
      "[10]\n",
      "[28]\n",
      "[45]\n",
      "[45]\n",
      "[100]\n",
      "[100]\n",
      "[100]\n",
      "[79]\n",
      "[6]\n",
      "[100]\n",
      "[100]\n",
      "[45]\n",
      "[100]\n",
      "[100]\n",
      "[100]\n",
      "[100]\n",
      "[79]\n",
      "[79]\n",
      "[13]\n",
      "[100]\n",
      "[45]\n",
      "[79]\n",
      "[100]\n",
      "[100]\n",
      "[100]\n",
      "[100]\n",
      "[28]\n",
      "[10]\n",
      "[27]\n",
      "[79]\n",
      "[45]\n",
      "[79]\n",
      "[45]\n",
      "[79]\n",
      "[100]\n",
      "[79]\n",
      "[79]\n",
      "[45]\n",
      "[28]\n",
      "[79]\n",
      "[45]\n",
      "[79]\n",
      "[13]\n",
      "[79]\n",
      "[45]\n",
      "[100]\n",
      "[100]\n",
      "[10]\n",
      "[100]\n",
      "[100]\n",
      "[79]\n",
      "[79]\n",
      "[28]\n",
      "[28]\n",
      "[6]\n",
      "[79]\n",
      "[100]\n",
      "[45]\n",
      "[100]\n",
      "[28]\n",
      "[100]\n",
      "[45]\n",
      "[100]\n",
      "[45]\n",
      "[6]\n",
      "[79]\n",
      "[79]\n",
      "[13]\n",
      "[45]\n",
      "[79]\n",
      "[100]\n",
      "[27]\n",
      "[27]\n",
      "[79]\n",
      "[100]\n",
      "[100]\n",
      "[79]\n",
      "[10]\n",
      "[10]\n",
      "[28]\n",
      "[45]\n",
      "[27]\n",
      "[100]\n",
      "[79]\n",
      "[10]\n",
      "[79]\n",
      "[13]\n",
      "[100]\n",
      "[100]\n",
      "[100]\n"
     ]
    }
   ],
   "source": [
    "from random import uniform\n",
    "\n",
    "def pick_a_number_from_list(A):\n",
    "    A = [0, 5, 27, 6, 13, 28, 100, 45, 10, 79]\n",
    "    result = random.choices(A, weights = [0, 5, 27, 6, 13, 28, 100, 45, 10, 79], k = 1)\n",
    "    return result\n",
    "\n",
    "def sampling_based_on_magnitued():\n",
    "    for i in range(1,100):\n",
    "        number = pick_a_number_from_list(A)\n",
    "        print(number)\n",
    "\n",
    "sampling_based_on_magnitued()"
   ]
  },
  {
   "cell_type": "markdown",
   "metadata": {
    "colab_type": "text",
    "id": "D1xQy2WWB-kq"
   },
   "source": [
    "<h3> Q3: Replace the digits in the string with #</h3>\n",
    "\n",
    "consider a string that will have digits in that, we need to remove all the not digits and replace the digits with #\n",
    "<pre>\n",
    "Ex 1: A = 234                Output: ###\n",
    "Ex 2: A = a2b3c4             Output: ###\n",
    "Ex 3: A = abc                Output:   (empty string)\n",
    "Ex 5: A = #2a$#b%c%561#      Output: ####\n",
    "</pre>"
   ]
  },
  {
   "cell_type": "code",
   "execution_count": 20,
   "metadata": {
    "colab": {},
    "colab_type": "code",
    "id": "fxczi2jzB-kr"
   },
   "outputs": [
    {
     "name": "stdout",
     "output_type": "stream",
     "text": [
      "###\n",
      "###\n",
      "\n",
      "####\n"
     ]
    }
   ],
   "source": [
    "\n",
    "def replace_digits(String):\n",
    "    a = '#'\n",
    "    String1 = \"\"\n",
    "    for ele in String:\n",
    "        if ele.isalnum():\n",
    "            String1 = String1 + ele\n",
    "    for ele in String1:\n",
    "        if ele.isdigit():\n",
    "            String1 = String1.replace(ele, a)\n",
    "        if ele.isalpha():\n",
    "            String1 = String1.replace(ele,\"\")\n",
    "    print(String1)\n",
    "    \n",
    "replace_digits( '234' )\n",
    "replace_digits('a2b3c4' )\n",
    "replace_digits('abc')\n",
    "replace_digits('#2a$#b%c%561#')\n"
   ]
  },
  {
   "cell_type": "markdown",
   "metadata": {
    "colab_type": "text",
    "id": "j7h0Ywg7B-kw"
   },
   "source": [
    "<h3> Q4: Students marks dashboard</h3>\n",
    "\n",
    "consider the marks list of class students given two lists <br>\n",
    "Students = ['student1','student2','student3','student4','student5','student6','student7','student8','student9','student10'] <br>\n",
    "Marks = [45, 78, 12, 14, 48, 43, 45, 98, 35, 80] <br>\n",
    "from the above two lists the Student[0] got Marks[0],  Student[1] got Marks[1] and so on <br><br>\n",
    "your task is to print the name of students\n",
    "<strong>a. Who got top 5 ranks, in the descending order of marks</strong> <br>\n",
    "<strong>b. Who got least 5 ranks, in the increasing order of marks</strong><br>\n",
    "<strong>d. Who got marks between  &gt;25th percentile &lt;75th percentile, in the increasing order of marks</strong>\n",
    "\n",
    "<pre>\n",
    "Ex 1: \n",
    "Students=['student1','student2','student3','student4','student5','student6','student7','student8','student9','student10'] \n",
    "Marks = [45, 78, 12, 14, 48, 43, 47, 98, 35, 80]\n",
    "a. \n",
    "student8  98\n",
    "student10 80\n",
    "student2  78\n",
    "student5  48\n",
    "student7  47\n",
    "b.\n",
    "student3 12\n",
    "student4 14\n",
    "student9 35\n",
    "student6 43\n",
    "student1 45\n",
    "c.\n",
    "student9 35\n",
    "student6 43\n",
    "student1 45\n",
    "student7 47\n",
    "student5 48\n",
    "</pre>"
   ]
  },
  {
   "cell_type": "code",
   "execution_count": 52,
   "metadata": {},
   "outputs": [
    {
     "name": "stdout",
     "output_type": "stream",
     "text": [
      "\n",
      "top_5_students {'student8': 98, 'student10': 80, 'student2': 78, 'student5': 48, 'student7': 47}\n",
      "\n",
      "least_5_students {'student3': 12, 'student4': 14, 'student9': 35, 'student6': 43, 'student1': 45}\n",
      "\n",
      "students within 25 and 75 \n",
      "student9 35\n",
      "student6 43\n",
      "student1 45\n",
      "student7 47\n",
      "student5 48\n"
     ]
    }
   ],
   "source": [
    "students = ['student1','student2','student3','student4','student5','student6','student7','student8','student9','student10']\n",
    "marks = [45, 78, 12, 14, 48, 43, 47, 98, 35, 80]\n",
    "def display_dash_board(students, marks):\n",
    "    Marks1, Students1 = zip(*sorted(zip(marks, students),reverse = True))\n",
    "    lst = []\n",
    "    for (a, b) in zip (Students1, Marks1):\n",
    "        lst.append((a,b))\n",
    "    top_5_students = lst[:5]\n",
    "    top_5_students = dict(top_5_students)\n",
    "    print (\"\\ntop_5_students\",top_5_students)\n",
    "    \n",
    "    least_5_students =lst[:-6:-1]\n",
    "    least_5_students = dict(least_5_students)\n",
    "    print (\"\\nleast_5_students\",least_5_students)\n",
    "    \n",
    "    print(\"\\nstudents within 25 and 75 \")\n",
    "    dictionary = dict(sorted(lst))\n",
    "    max_mark = max(dictionary.values())\n",
    "    min_mark = min(dictionary.values())\n",
    "    diff = max_mark - min_mark\n",
    "    pre_25 = diff * 0.25\n",
    "    pre_75 = diff * 0.75\n",
    "    for key, value in sorted(dictionary.items(), key=lambda item: item[1]):\n",
    "        if pre_25 < value < pre_75:\n",
    "            print(key, value)\n",
    "        \n",
    "display_dash_board(students, marks)   "
   ]
  },
  {
   "cell_type": "markdown",
   "metadata": {
    "colab_type": "text",
    "id": "qha0OhQHB-k1"
   },
   "source": [
    "<h3> Q5: Find the closest points</h3>\n",
    "\n",
    "consider you have given n data points in the form of list of tuples like S=[(x1,y1),(x2,y2),(x3,y3),(x4,y4),(x5,y5),..,(xn,yn)] and a point P=(p,q) <br> your task is to find 5 closest points(based on cosine distance) in S from P\n",
    "<br>cosine distance between two points (x,y) and (p,q) is defind as $cos^{-1}(\\frac{(x\\cdot p+y\\cdot q)}{\\sqrt(x^2+y^2)\\cdot\\sqrt(p^2+q^2)})$\n",
    "<pre>\n",
    "Ex:\n",
    "\n",
    "S= [(1,2),(3,4),(-1,1),(6,-7),(0, 6),(-5,-8),(-1,-1)(6,0),(1,-1)]\n",
    "P= (3,-4)\n",
    "<img src='https://i.imgur.com/vIFPOcG.jpg', width=300>\n",
    "Output:\n",
    "(6,-7)\n",
    "(1,-1)\n",
    "(6,0)\n",
    "(-5,-8)\n",
    "(-1,-1)\n",
    "</pre>"
   ]
  },
  {
   "cell_type": "code",
   "execution_count": 8,
   "metadata": {
    "colab": {},
    "colab_type": "code",
    "id": "wA5I1g-2B-k2"
   },
   "outputs": [
    {
     "name": "stdout",
     "output_type": "stream",
     "text": [
      "((6, -7), (1, -1), (6, 0), (-5, -8), (-1, -1))\n"
     ]
    }
   ],
   "source": [
    "import math\n",
    "\n",
    "def closest_points_to_p(s, p):\n",
    "    lst1 = []\n",
    "    for i in s:\n",
    "        a = (i[0] * p[0]) + (i[1] * p[1])\n",
    "        lst1.append(a)\n",
    "    lst2 = []\n",
    "    for i in s:\n",
    "        b = math.sqrt((i[0])**2 + (i[1])**2) * math.sqrt(p[0]**2 + p[1]**2)\n",
    "        lst2.append(b)\n",
    "    lst3 = [i / j for i, j in zip (lst1, lst2)]\n",
    "    lst4 = []\n",
    "    for i in lst3:\n",
    "        c = math.acos(i)\n",
    "        lst4.append(c)\n",
    "    lst4, s = zip(*sorted(zip(lst4, s)))\n",
    "    return s\n",
    "\n",
    "s= [(1,2),(3,4),(-1,1),(6,-7),(0, 6),(-5,-8),(-1,-1),(6,0),(1,-1)]\n",
    "p= (3,-4)\n",
    "points = closest_points_to_p(s, p)\n",
    "print(points[:5]) "
   ]
  },
  {
   "cell_type": "markdown",
   "metadata": {
    "colab_type": "text",
    "id": "-g11jeAiB-k5"
   },
   "source": [
    "<h3> Q6: Find Which line separates oranges and apples</h3>\n",
    "consider you have given two set of data points in the form of list of tuples like \n",
    "<pre>\n",
    "Red =[(R11,R12),(R21,R22),(R31,R32),(R41,R42),(R51,R52),..,(Rn1,Rn2)]\n",
    "Blue=[(B11,B12),(B21,B22),(B31,B32),(B41,B42),(B51,B52),..,(Bm1,Bm2)]\n",
    "</pre>\n",
    "and set of line equations(in the string formate, i.e list of strings)\n",
    "<pre>\n",
    "Lines = [a1x+b1y+c1,a2x+b2y+c2,a3x+b3y+c3,a4x+b4y+c4,..,K lines]\n",
    "Note: you need to string parsing here and get the coefficients of x,y and intercept\n",
    "</pre>\n",
    "your task is to for each line that is given print \"YES\"/\"NO\", you will print yes, if all the red points are one side of the line and blue points are other side of the line, otherwise no\n",
    "<pre>\n",
    "Ex:\n",
    "Red= [(1,1),(2,1),(4,2),(2,4), (-1,4)]\n",
    "Blue= [(-2,-1),(-1,-2),(-3,-2),(-3,-1),(1,-3)]\n",
    "Lines=[\"1x+1y+0\",\"1x-1y+0\",\"1x+0y-3\",\"0x+1y-0.5\"]\n",
    "<img src='https://i.imgur.com/DoQf7mE.jpg' width=400>\n",
    "Output:\n",
    "YES\n",
    "NO\n",
    "NO\n",
    "YES\n",
    "</pre>"
   ]
  },
  {
   "cell_type": "code",
   "execution_count": 7,
   "metadata": {
    "colab": {},
    "colab_type": "code",
    "id": "eRxExaTRB-k6"
   },
   "outputs": [
    {
     "name": "stdout",
     "output_type": "stream",
     "text": [
      "Yes\n",
      "No\n",
      "No\n",
      "Yes\n"
     ]
    }
   ],
   "source": [
    "import math\n",
    "\n",
    "def i_am_the_one(red,blue,line):\n",
    "    for i in Red:\n",
    "        r = line.replace('x','*' + str(i[0]))\n",
    "        r1 = r.replace('y','*'+str(i[1]))\n",
    "        r2 = eval(r1)\n",
    "        if r2>0:\n",
    "            pass\n",
    "        else:\n",
    "            return \"No\"\n",
    "            \n",
    "    for i in Blue:\n",
    "        b = line.replace('x','*' + str(i[0]))\n",
    "        b1 = r.replace('y','*'+str(i[1]))\n",
    "        b2 = eval(b1)\n",
    "        if b2<0:\n",
    "            pass\n",
    "        else:\n",
    "            return \"No\"\n",
    "    return \"Yes\"\n",
    "\n",
    "Red= [(1,1),(2,1),(4,2),(2,4), (-1,4)]\n",
    "Blue= [(-2,-1),(-1,-2),(-3,-2),(-3,-1),(1,-3)]\n",
    "Lines=[\"1x+1y+0\",\"1x-1y+0\",\"1x+0y-3\",\"0x+1y-0.5\"]\n",
    "\n",
    "for i in Lines:\n",
    "    yes_or_no = i_am_the_one(Red, Blue, i)\n",
    "    print(yes_or_no) "
   ]
  },
  {
   "cell_type": "markdown",
   "metadata": {
    "colab_type": "text",
    "id": "9OBpURbNB-k9"
   },
   "source": [
    "<h3> Q7: Filling the missing values in the specified formate</h3>\n",
    "You will be given a string with digits and '\\_'(missing value) symbols you have to replace the '\\_' symbols as explained \n",
    "<pre>\n",
    "Ex 1: _, _, _, 24 ==> 24/4, 24/4, 24/4, 24/4 i.e we. have distributed the 24 equally to all 4 places <br>\n",
    "Ex 2: 40, _, _, _, 60 ==> (60+40)/5,(60+40)/5,(60+40)/5,(60+40)/5,(60+40)/5 ==> 20, 20, 20, 20, 20 i.e. the sum of (60+40) is distributed qually to all 5 places<br>\n",
    "Ex 3: 80, _, _, _, _  ==> 80/5,80/5,80/5,80/5,80/5 ==> 16, 16, 16, 16, 16 i.e. the 80 is distributed qually to all 5 missing values that are right to it<br>\n",
    "Ex 4: _, _, 30, _, _, _, 50, _, _  \n",
    "==> we will fill the missing values from left to right \n",
    "    a. first we will distribute the 30 to left two missing values (10, 10, 10, _, _, _, 50, _, _)\n",
    "    b. now distribute the sum (10+50) missing values in between (10, 10, 12, 12, 12, 12, 12, _, _) \n",
    "    c. now we will distribute 12 to right side missing values (10, 10, 12, 12, 12, 12, 4, 4, 4)\n",
    "</pre>\n",
    "for a given string with comma seprate values, which will have both missing values numbers like ex: \"_, _, x, _, _, _\"\n",
    "you need fill the missing values\n",
    "\n",
    "Q: your program reads a string like ex: \"_, _, x, _, _, _\" and returns the filled sequence\n",
    "\n",
    "Ex: \n",
    "<pre>\n",
    "Input1: \"_,_,_,24\"\n",
    "Output1: 6,6,6,6\n",
    "\n",
    "Input2: \"40,_,_,_,60\"\n",
    "Output2: 20,20,20,20,20\n",
    "\n",
    "Input3: \"80,_,_,_,_\"\n",
    "Output3: 16,16,16,16,16\n",
    "\n",
    "Input4: \"_,_,30,_,_,_,50,_,_\"\n",
    "Output4: 10,10,12,12,12,12,4,4,4\n",
    "</pre>\n",
    "\n"
   ]
  },
  {
   "cell_type": "code",
   "execution_count": 76,
   "metadata": {},
   "outputs": [
    {
     "data": {
      "text/plain": [
       "[6, 6, 6, 6, 6]"
      ]
     },
     "execution_count": 76,
     "metadata": {},
     "output_type": "execute_result"
    }
   ],
   "source": [
    "def filling_missing_values_1 (l):\n",
    "\n",
    "    l1 = l.split(\",\")\n",
    "    l2 = []\n",
    "    l3 = []\n",
    "    c = 0\n",
    "    for i in l1:\n",
    "        try:\n",
    "            a = int(i)\n",
    "            l2.append(a)\n",
    "        except:\n",
    "            l2.append(i)\n",
    "    for i in l2:\n",
    "        try:\n",
    "            c = i/len(l2)\n",
    "        except:\n",
    "            pass\n",
    "        l3.append(int(c))\n",
    "    l4 = []\n",
    "    for i in l3:\n",
    "        i = c\n",
    "        l4.append(int(i))\n",
    "    return l4\n",
    "l = \"_,_,_,_,30\" \n",
    "filling_missing_values_1 (l)\n"
   ]
  },
  {
   "cell_type": "code",
   "execution_count": 78,
   "metadata": {},
   "outputs": [
    {
     "data": {
      "text/plain": [
       "[20, 20, 20, 20, 20]"
      ]
     },
     "execution_count": 78,
     "metadata": {},
     "output_type": "execute_result"
    }
   ],
   "source": [
    "def filling_missing_values_2 (lst1):\n",
    "\n",
    "    lst2 = lst1.split(\",\")\n",
    "    lst3 = []\n",
    "    for i in lst2:\n",
    "        try:\n",
    "            e = int(i)\n",
    "            lst3.append(int(e))\n",
    "        except:\n",
    "            lst3.append(i)\n",
    "    sum = 0\n",
    "    for x in lst3:\n",
    "        try:\n",
    "            sum += x\n",
    "        except:\n",
    "            pass\n",
    "    i1 = sum/len(lst3)\n",
    "\n",
    "    lst4 = []\n",
    "    for i in lst3:\n",
    "        i = i1\n",
    "        lst4.append(int(i))\n",
    "    return lst4\n",
    "\n",
    "lst1= \"40,_,_,_,60\"\n",
    "filling_missing_values_2 (lst1)"
   ]
  },
  {
   "cell_type": "code",
   "execution_count": 79,
   "metadata": {},
   "outputs": [
    {
     "data": {
      "text/plain": [
       "[16, 16, 16, 16, 16]"
      ]
     },
     "execution_count": 79,
     "metadata": {},
     "output_type": "execute_result"
    }
   ],
   "source": [
    "def filling_missing_values_3 (l):\n",
    "\n",
    "    l1 = l.split(\",\")\n",
    "    l2 = []\n",
    "    l3 = []\n",
    "    c = 0\n",
    "    for i in l1:\n",
    "        try:\n",
    "            a = int(i)\n",
    "            l2.append(a)\n",
    "        except:\n",
    "            l2.append(i)\n",
    "    for i in l2:\n",
    "        try:\n",
    "            c = i/len(l2)\n",
    "        except:\n",
    "            pass\n",
    "        l3.append(int(c))\n",
    "    l4 = []\n",
    "    for i in l3:\n",
    "        i = c\n",
    "        l4.append(int(i))\n",
    "    return l4\n",
    "\n",
    "l = \"80, _, _, _, _\"\n",
    "filling_missing_values_3 (l)"
   ]
  },
  {
   "cell_type": "code",
   "execution_count": 89,
   "metadata": {},
   "outputs": [
    {
     "name": "stdout",
     "output_type": "stream",
     "text": [
      "['10.0', '10.0', '12.0', '12.0', '12.0', '12.0', '4.0', '4.0', '4.0']\n"
     ]
    }
   ],
   "source": [
    "def filling_missing_values(l):\n",
    "    l1 = l.split(',')\n",
    "    count = 0\n",
    "    first_value = 0\n",
    "    for i in range(len(l1)):\n",
    "        if l1[i] == '_':\n",
    "            count = count + 1  \n",
    "        else:\n",
    "            for j in range(i + 1):\n",
    "                \n",
    "                l1[j] = str((float(l1[i]) / (count + 1)))\n",
    "            first_value = i\n",
    "            first_value_store = float(l1[i])\n",
    "            break\n",
    "\n",
    "    last_value = 1\n",
    "    b = 0\n",
    "    for k in range(first_value + 1, len(l1)):\n",
    "        if l1[k] != '_':\n",
    "            last_value = (k + 1 - first_value)\n",
    "            b = k\n",
    "            break\n",
    "    remaining_values = float(l1[b])\n",
    "    for x in range(first_value, b + 1):\n",
    "        l1[x] = str((first_value_store+remaining_values) / last_value)\n",
    "\n",
    "    # blanks at the right\n",
    "    last_remaining_value = float(l1[b])\n",
    "    for y in range(b, len(l1)):\n",
    "        l1[y] = str(last_remaining_value / (len(l1) - b))\n",
    "\n",
    "    return l1\n",
    "\n",
    "l=  \"_,_,30,_,_,_,50,_,_\"\n",
    "print(filling_missing_values(l))"
   ]
  },
  {
   "cell_type": "markdown",
   "metadata": {
    "colab_type": "text",
    "id": "RBz4pzlfB-lB"
   },
   "source": [
    "<h3> Q8: Filling the missing values in the specified formate</h3>\n",
    "You will be given a list of lists, each sublist will be of length 2 i.e. [[x,y],[p,q],[l,m]..[r,s]]\n",
    "consider its like a martrix of n rows and two columns\n",
    "1. the first column F will contain only 5 uniques values (F1, F2, F3, F4, F5)\n",
    "2. the second column S will contain only 3 uniques values (S1, S2, S3)\n",
    "<pre>\n",
    "your task is to find\n",
    "a. Probability of P(F=F1|S==S1), P(F=F1|S==S2), P(F=F1|S==S3)\n",
    "b. Probability of P(F=F2|S==S1), P(F=F2|S==S2), P(F=F2|S==S3)\n",
    "c. Probability of P(F=F3|S==S1), P(F=F3|S==S2), P(F=F3|S==S3)\n",
    "d. Probability of P(F=F4|S==S1), P(F=F4|S==S2), P(F=F4|S==S3)\n",
    "e. Probability of P(F=F5|S==S1), P(F=F5|S==S2), P(F=F5|S==S3)\n",
    "</pre>\n",
    "Ex:\n",
    "\n",
    "<pre>\n",
    "[[F1,S1],[F2,S2],[F3,S3],[F1,S2],[F2,S3],[F3,S2],[F2,S1],[F4,S1],[F4,S3],[F5,S1]]\n",
    "\n",
    "a. P(F=F1|S==S1)=1/4, P(F=F1|S==S2)=1/3, P(F=F1|S==S3)=0/3\n",
    "b. P(F=F2|S==S1)=1/4, P(F=F2|S==S2)=1/3, P(F=F2|S==S3)=1/3\n",
    "c. P(F=F3|S==S1)=0/4, P(F=F3|S==S2)=1/3, P(F=F3|S==S3)=1/3\n",
    "d. P(F=F4|S==S1)=1/4, P(F=F4|S==S2)=0/3, P(F=F4|S==S3)=1/3\n",
    "e. P(F=F5|S==S1)=1/4, P(F=F5|S==S2)=0/3, P(F=F5|S==S3)=0/3\n",
    "</pre>\n",
    "\n",
    "\n"
   ]
  },
  {
   "cell_type": "code",
   "execution_count": 14,
   "metadata": {
    "colab": {},
    "colab_type": "code",
    "id": "e-1giz1MB-lC"
   },
   "outputs": [
    {
     "name": "stdout",
     "output_type": "stream",
     "text": [
      "Probability of P(F=F1|S==S1) 0.25\n",
      "Probability of P(F=F2|S==S1) 0.25\n",
      "Probability of P(F=F3|S==S1) 0.0\n",
      "Probability of P(F=F4|S==S1) 0.25\n",
      "Probability of P(F=F5|S==S1) 0.25\n",
      "Probability of P(F=F1|S==S2) 0.3333333333333333\n",
      "Probability of P(F=F2|S==S2) 0.3333333333333333\n",
      "Probability of P(F=F3|S==S2) 0.3333333333333333\n",
      "Probability of P(F=F4|S==S2) 0.0\n",
      "Probability of P(F=F5|S==S2) 0.0\n",
      "Probability of P(F=F1|S==S3) 0.0\n",
      "Probability of P(F=F2|S==S3) 0.3333333333333333\n",
      "Probability of P(F=F3|S==S3) 0.3333333333333333\n",
      "Probability of P(F=F4|S==S3) 0.3333333333333333\n",
      "Probability of P(F=F5|S==S3) 0.0\n"
     ]
    }
   ],
   "source": [
    "\n",
    "def compute_conditional_probabilites(A):\n",
    "    count_of_f1_in_s1 = 0\n",
    "    count_of_f2_in_s1 = 0\n",
    "    count_of_f3_in_s1 = 0\n",
    "    count_of_f4_in_s1 = 0\n",
    "    count_of_f5_in_s1 = 0\n",
    "\n",
    "    count_of_f1_in_s2 = 0\n",
    "    count_of_f2_in_s2 = 0\n",
    "    count_of_f3_in_s2 = 0\n",
    "    count_of_f4_in_s2 = 0\n",
    "    count_of_f5_in_s2 = 0\n",
    "\n",
    "    count_of_f1_in_s3 = 0\n",
    "    count_of_f2_in_s3 = 0\n",
    "    count_of_f3_in_s3 = 0\n",
    "    count_of_f4_in_s3 = 0\n",
    "    count_of_f5_in_s3 = 0\n",
    "\n",
    "    count_of_s1 = 0\n",
    "    count_of_s2 = 0\n",
    "    count_of_s3 = 0\n",
    "\n",
    "    for i in A:\n",
    "        if i[1] == 'S1'and i[0] == 'F1':\n",
    "            count_of_f1_in_s1 = 1 + count_of_f1_in_s1\n",
    "        if i[1] == 'S1'and i[0] == 'F2':\n",
    "            count_of_f2_in_s1 = 1 + count_of_f2_in_s1\n",
    "        if i[1] == 'S1'and i[0] == 'F3':\n",
    "            count_of_f3_in_s1 = 1 + count_of_f3_in_s1\n",
    "        if i[1] == 'S1'and i[0] == 'F4':\n",
    "            count_of_f4_in_s1 = 1 + count_of_f4_in_s1\n",
    "        if i[1] == 'S1'and i[0] == 'F5':\n",
    "            count_of_f5_in_s1 = 1 + count_of_f5_in_s1\n",
    "\n",
    "        if i[1] == 'S2'and i[0] == 'F1':\n",
    "            count_of_f1_in_s2 = 1 + count_of_f1_in_s2\n",
    "        if i[1] == 'S2'and i[0] == 'F2':\n",
    "            count_of_f2_in_s2 = 1 + count_of_f2_in_s2\n",
    "        if i[1] == 'S2'and i[0] == 'F3':\n",
    "            count_of_f3_in_s2 = 1 + count_of_f3_in_s2\n",
    "        if i[1] == 'S2'and i[0] == 'F4':\n",
    "            count_of_f4_in_s2 = 1 + count_of_f4_in_s2\n",
    "        if i[1] == 'S2'and i[0] == 'F5':\n",
    "            count_of_f5_in_s2 = 1 + count_of_f5_in_s2\n",
    "\n",
    "        if i[1] == 'S3'and i[0] == 'F1':\n",
    "            count_of_f1_in_s3 = 1 + count_of_f1_in_s3\n",
    "        if i[1] == 'S3'and i[0] == 'F2':\n",
    "            count_of_f2_in_s3 = 1 + count_of_f2_in_s3\n",
    "        if i[1] == 'S3'and i[0] == 'F3':\n",
    "            count_of_f3_in_s3 = 1 + count_of_f3_in_s3\n",
    "        if i[1] == 'S3'and i[0] == 'F4':\n",
    "            count_of_f4_in_s3 = 1 + count_of_f4_in_s3\n",
    "        if i[1] == 'S3'and i[0] == 'F5':\n",
    "            count_of_f5_in_s3 = 1 + count_of_f5_in_s3\n",
    "\n",
    "\n",
    "        if i[1] == 'S1':\n",
    "            count_of_s1 = 1 + count_of_s1\n",
    "\n",
    "        if i[1] == 'S2':\n",
    "            count_of_s2 = 1 + count_of_s2\n",
    "        if i[1] == 'S3':\n",
    "            count_of_s3 = 1 + count_of_s3\n",
    "\n",
    "    a_1 = count_of_f1_in_s1 / count_of_s1\n",
    "    b_1 = count_of_f2_in_s1 / count_of_s1\n",
    "    c_1 = count_of_f3_in_s1 / count_of_s1\n",
    "    d_1 = count_of_f4_in_s1 / count_of_s1\n",
    "    e_1 = count_of_f5_in_s1 / count_of_s1\n",
    "\n",
    "    a_2 = count_of_f1_in_s2 / count_of_s2\n",
    "    b_2 = count_of_f2_in_s2 / count_of_s2\n",
    "    c_2 = count_of_f3_in_s2 / count_of_s2\n",
    "    d_2 = count_of_f4_in_s2 / count_of_s2\n",
    "    e_2 = count_of_f5_in_s2 / count_of_s2\n",
    "\n",
    "    a_3 = count_of_f1_in_s3 / count_of_s3\n",
    "    b_3 = count_of_f2_in_s3 / count_of_s3\n",
    "    c_3 = count_of_f3_in_s3 / count_of_s3\n",
    "    d_3 = count_of_f4_in_s3 / count_of_s3\n",
    "    e_3 = count_of_f5_in_s3 / count_of_s3\n",
    "    print(\"Probability of P(F=F1|S==S1)\", a_1)\n",
    "    print(\"Probability of P(F=F2|S==S1)\", b_1)\n",
    "    print(\"Probability of P(F=F3|S==S1)\", c_1)\n",
    "    print(\"Probability of P(F=F4|S==S1)\", d_1)\n",
    "    print(\"Probability of P(F=F5|S==S1)\", e_1)\n",
    "    print(\"Probability of P(F=F1|S==S2)\", a_2)\n",
    "    print(\"Probability of P(F=F2|S==S2)\", b_2)\n",
    "    print(\"Probability of P(F=F3|S==S2)\", c_2)\n",
    "    print(\"Probability of P(F=F4|S==S2)\", d_2)\n",
    "    print(\"Probability of P(F=F5|S==S2)\", e_2)\n",
    "    print(\"Probability of P(F=F1|S==S3)\", a_3)\n",
    "    print(\"Probability of P(F=F2|S==S3)\", b_3)\n",
    "    print(\"Probability of P(F=F3|S==S3)\", c_3)\n",
    "    print(\"Probability of P(F=F4|S==S3)\", d_3)\n",
    "    print(\"Probability of P(F=F5|S==S3)\", e_3)\n",
    "\n",
    "\n",
    "A = [['F1','S1'],['F2','S2'],['F3','S3'],['F1','S2'],['F2','S3'],['F3','S2'],['F2','S1'],['F4','S1'],['F4','S3'],['F5','S1']]\n",
    "\n",
    "compute_conditional_probabilites(A)"
   ]
  },
  {
   "cell_type": "markdown",
   "metadata": {
    "colab_type": "text",
    "id": "n4HS87QmB-lF"
   },
   "source": [
    "<h3> Q9: Given two sentances S1, S2</h3>\n",
    "You will be given two sentances S1, S2 your task is to find \n",
    "<pre>\n",
    "a. Number of common words between S1, S2\n",
    "b. Words in S1 but not in S2\n",
    "c. Words in S2 but not in S1\n",
    "</pre>\n",
    "\n",
    "Ex: \n",
    "<pre>\n",
    "S1= \"the first column F will contain only 5 uniques values\"\n",
    "S2= \"the second column S will contain only 3 uniques values\"\n",
    "Output:\n",
    "a. 7\n",
    "b. ['first','F','5']\n",
    "c. ['second','S','3']\n",
    "</pre>"
   ]
  },
  {
   "cell_type": "code",
   "execution_count": 18,
   "metadata": {
    "colab": {},
    "colab_type": "code",
    "id": "Ez7hlHK0B-lG"
   },
   "outputs": [
    {
     "name": "stdout",
     "output_type": "stream",
     "text": [
      "7\n",
      "['first', 'F', '5']\n",
      "['second', 'S', '3']\n"
     ]
    }
   ],
   "source": [
    "\n",
    "def string_features(S1, S2):\n",
    "    s_1 = S1.split()\n",
    "    s_2 = S2.split()\n",
    "    a = 0\n",
    "    for i in s_1:\n",
    "        for j in s_2:\n",
    "            if i == j:\n",
    "                a += 1\n",
    "\n",
    "    b = []\n",
    "    for i in s_1:\n",
    "        if i not in s_2:\n",
    "            b.append(i)\n",
    "    c = []\n",
    "    for i in s_2:\n",
    "        if i not in s_1:\n",
    "            c.append(i)\n",
    "    return count, b, c\n",
    "\n",
    "S1= \"the first column F will contain only 5 uniques values\"\n",
    "S2= \"the second column S will contain only 3 uniques values\"\n",
    "a,b,c = string_features(S1, S2)\n",
    "print(a)\n",
    "print(b)\n",
    "print(c)"
   ]
  },
  {
   "cell_type": "markdown",
   "metadata": {
    "colab_type": "text",
    "id": "XefXVEjCB-lI"
   },
   "source": [
    "<h3> Q10: Given two sentances S1, S2</h3>\n",
    "You will be given a list of lists, each sublist will be of length 2 i.e. [[x,y],[p,q],[l,m]..[r,s]]\n",
    "consider its like a martrix of n rows and two columns\n",
    "\n",
    "a. the first column Y will contain interger values <br>\n",
    "b. the second column $Y_{score}$ will be having float values <br>\n",
    "Your task is to find the value of $f(Y,Y_{score}) = -1*\\frac{1}{n}\\Sigma_{for each Y,Y_{score} pair}(Ylog10(Y_{score})+(1-Y)log10(1-Y_{score}))$ here n is the number of rows in the matrix\n",
    "<pre>\n",
    "Ex:\n",
    "[[1, 0.4], [0, 0.5], [0, 0.9], [0, 0.3], [0, 0.6], [1, 0.1], [1, 0.9], [1, 0.8]]\n",
    "output:\n",
    "0.4243099\n",
    "</pre>\n",
    "$\\frac{-1}{8}\\cdot((1\\cdot log_{10}(0.4)+0\\cdot log_{10}(0.6))+(0\\cdot log_{10}(0.5)+1\\cdot log_{10}(0.5)) + ... + (1\\cdot log_{10}(0.8)+0\\cdot log_{10}(0.2)) )$"
   ]
  },
  {
   "cell_type": "code",
   "execution_count": 7,
   "metadata": {
    "colab": {},
    "colab_type": "code",
    "id": "N9zkagyNB-lJ"
   },
   "outputs": [
    {
     "name": "stdout",
     "output_type": "stream",
     "text": [
      "0.42430993457031635\n"
     ]
    }
   ],
   "source": [
    "import math\n",
    "\n",
    "def compute_log_loss(A):\n",
    "    sum = 0\n",
    "    for i in range(len(A)):\n",
    "        sum = sum + ((A[i][0] * math.log(A[i][1],10)) + ((1-A[i][0]) * (math.log(1-A[i][1],10))))\n",
    "    return sum\n",
    "\n",
    "A = [[1, 0.4], [0, 0.5], [0, 0.9], [0, 0.3], [0, 0.6], [1, 0.1], [1, 0.9], [1, 0.8]]\n",
    "print(((compute_log_loss(A)/8)*(-1)))"
   ]
  },
  {
   "cell_type": "code",
   "execution_count": null,
   "metadata": {},
   "outputs": [],
   "source": []
  }
 ],
 "metadata": {
  "colab": {
   "collapsed_sections": [],
   "name": "1.Python Assignment.ipynb",
   "provenance": []
  },
  "kernelspec": {
   "display_name": "Python 3",
   "language": "python",
   "name": "python3"
  },
  "language_info": {
   "codemirror_mode": {
    "name": "ipython",
    "version": 3
   },
   "file_extension": ".py",
   "mimetype": "text/x-python",
   "name": "python",
   "nbconvert_exporter": "python",
   "pygments_lexer": "ipython3",
   "version": "3.8.8"
  }
 },
 "nbformat": 4,
 "nbformat_minor": 1
}
