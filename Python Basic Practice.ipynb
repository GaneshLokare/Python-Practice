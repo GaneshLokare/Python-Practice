{
 "cells": [
  {
   "cell_type": "markdown",
   "id": "af538b87",
   "metadata": {},
   "source": [
    "Exercise No. 1"
   ]
  },
  {
   "cell_type": "code",
   "execution_count": 1,
   "id": "f51923f1",
   "metadata": {},
   "outputs": [
    {
     "name": "stdout",
     "output_type": "stream",
     "text": [
      "Enter a number 5\n",
      "5 * 1 = 5\n",
      "5 * 2 = 10\n",
      "5 * 3 = 15\n",
      "5 * 4 = 20\n",
      "5 * 5 = 25\n",
      "5 * 6 = 30\n",
      "5 * 7 = 35\n",
      "5 * 8 = 40\n",
      "5 * 9 = 45\n",
      "5 * 10 = 50\n"
     ]
    }
   ],
   "source": [
    "num = int(input(\"Enter a number \"))\n",
    "for i in range(1,11):\n",
    "    a = i*num\n",
    "    print(num,\"*\",i,\"=\",a)"
   ]
  },
  {
   "cell_type": "code",
   "execution_count": null,
   "id": "2ba64f6b",
   "metadata": {},
   "outputs": [],
   "source": []
  },
  {
   "cell_type": "markdown",
   "id": "3b87b3ba",
   "metadata": {},
   "source": [
    "Exercise No. 2"
   ]
  },
  {
   "cell_type": "code",
   "execution_count": 2,
   "id": "594fc45a",
   "metadata": {},
   "outputs": [
    {
     "name": "stdout",
     "output_type": "stream",
     "text": [
      "1 and 3\n",
      "3 and 5\n",
      "5 and 7\n",
      "11 and 13\n",
      "17 and 19\n",
      "29 and 31\n",
      "41 and 43\n",
      "59 and 61\n",
      "71 and 73\n",
      "101 and 103\n",
      "107 and 109\n",
      "137 and 139\n",
      "149 and 151\n",
      "179 and 181\n",
      "191 and 193\n",
      "197 and 199\n",
      "227 and 229\n",
      "239 and 241\n",
      "269 and 271\n",
      "281 and 283\n",
      "311 and 313\n",
      "347 and 349\n",
      "419 and 421\n",
      "431 and 433\n",
      "461 and 463\n",
      "521 and 523\n",
      "569 and 571\n",
      "599 and 601\n",
      "617 and 619\n",
      "641 and 643\n",
      "659 and 661\n",
      "809 and 811\n",
      "821 and 823\n",
      "827 and 829\n",
      "857 and 859\n",
      "881 and 883\n"
     ]
    }
   ],
   "source": [
    "def prime_num(num):\n",
    "    for i in range(2,num):\n",
    "        if num % i == 0:\n",
    "            return False;\n",
    "    return True\n",
    "def twin_prime_num(start, end):\n",
    "    for i in range (start, end):\n",
    "        j = i + 2\n",
    "        if (prime_num(i) and prime_num(j)):\n",
    "            print(\"{:d} and {:d}\".format(i, j))\n",
    "    \n",
    "twin_prime_num(1,1000)        \n",
    "    \n"
   ]
  },
  {
   "cell_type": "code",
   "execution_count": null,
   "id": "a137de23",
   "metadata": {},
   "outputs": [],
   "source": []
  },
  {
   "cell_type": "markdown",
   "id": "72beb6ab",
   "metadata": {},
   "source": [
    "Exercise No. 3"
   ]
  },
  {
   "cell_type": "code",
   "execution_count": 8,
   "id": "8066e5c1",
   "metadata": {},
   "outputs": [
    {
     "data": {
      "text/plain": [
       "[2, 2, 2, 7]"
      ]
     },
     "execution_count": 8,
     "metadata": {},
     "output_type": "execute_result"
    }
   ],
   "source": [
    "def prime_factors(num):\n",
    "    i = 2\n",
    "    factors = []\n",
    "    while i * i <= num:\n",
    "        if num % i:\n",
    "            i+= 1\n",
    "        else:\n",
    "            num //= i\n",
    "            factors.append(i)\n",
    "    if num > 1:\n",
    "        factors.append(num)\n",
    "    return factors\n",
    "\n",
    "prime_factors(56)\n",
    "\n"
   ]
  },
  {
   "cell_type": "code",
   "execution_count": null,
   "id": "1a4274c2",
   "metadata": {},
   "outputs": [],
   "source": []
  },
  {
   "cell_type": "markdown",
   "id": "1a9c661c",
   "metadata": {},
   "source": [
    "Exercise No. 4"
   ]
  },
  {
   "cell_type": "code",
   "execution_count": 1,
   "id": "47c2643b",
   "metadata": {},
   "outputs": [
    {
     "name": "stdout",
     "output_type": "stream",
     "text": [
      "Enter a value of n = 5\n",
      "Enter a value of r = 2\n",
      "permutations = 20\n",
      "combinations = 10\n"
     ]
    }
   ],
   "source": [
    "n = int(input(\"Enter a value of n = \"))\n",
    "r = int(input(\"Enter a value of r = \"))\n",
    "def factorial(n):\n",
    "    factorial = 1\n",
    "    for i in range(1,n+1):\n",
    "        factorial = factorial * i\n",
    "    return(factorial)\n",
    "permutations = factorial(n)/(factorial(n-r))\n",
    "print(\"permutations\", \"=\", int(permutations))\n",
    "combinations = factorial(n)/(factorial(r)*(factorial(n-r)))\n",
    "print(\"combinations\", \"=\", int(combinations))\n"
   ]
  },
  {
   "cell_type": "code",
   "execution_count": null,
   "id": "6775f8e1",
   "metadata": {},
   "outputs": [],
   "source": []
  },
  {
   "cell_type": "markdown",
   "id": "3af99042",
   "metadata": {},
   "source": [
    "Exercise No. 5"
   ]
  },
  {
   "cell_type": "code",
   "execution_count": 11,
   "id": "0fc8f3a6",
   "metadata": {},
   "outputs": [
    {
     "name": "stdout",
     "output_type": "stream",
     "text": [
      "1001101"
     ]
    }
   ],
   "source": [
    "def decimal_to_binary(n):\n",
    "    if n >= 1:\n",
    "        decimal_to_binary(n//2)\n",
    "        print(n % 2, end ='')\n",
    "decimal_to_binary(77)"
   ]
  },
  {
   "cell_type": "code",
   "execution_count": null,
   "id": "ca5b8186",
   "metadata": {},
   "outputs": [],
   "source": []
  },
  {
   "cell_type": "markdown",
   "id": "85e4259c",
   "metadata": {},
   "source": [
    "Exercise No. 6"
   ]
  },
  {
   "cell_type": "code",
   "execution_count": 12,
   "id": "443be823",
   "metadata": {},
   "outputs": [
    {
     "name": "stdout",
     "output_type": "stream",
     "text": [
      "Enter a number 56\n",
      "56  is not a armstrong number\n"
     ]
    }
   ],
   "source": [
    "n = int(input(\"Enter a number \"))\n",
    "def cubesum(n):\n",
    "    x = [int(a) for a in str(n)]\n",
    "    z =[]\n",
    "    for i in x:\n",
    "        i = i**3\n",
    "        z.append(i)\n",
    "    s = sum(z)\n",
    "    return s\n",
    "\n",
    "if cubesum(n) == n:\n",
    "    print(n, \"is a armstrong number\")\n",
    "else:\n",
    "    print(n, \" is not a armstrong number\")\n"
   ]
  },
  {
   "cell_type": "code",
   "execution_count": null,
   "id": "708ab3b9",
   "metadata": {},
   "outputs": [],
   "source": []
  },
  {
   "cell_type": "markdown",
   "id": "bd3badf5",
   "metadata": {},
   "source": [
    "Exercise No. 7"
   ]
  },
  {
   "cell_type": "code",
   "execution_count": 13,
   "id": "4f868577",
   "metadata": {},
   "outputs": [
    {
     "data": {
      "text/plain": [
       "48"
      ]
     },
     "execution_count": 13,
     "metadata": {},
     "output_type": "execute_result"
    }
   ],
   "source": [
    "def prod(n):\n",
    "    prod1 = 1\n",
    "    while n!=0:\n",
    "        a = int(n%10)\n",
    "        prod1 = prod1 * a\n",
    "        n = int(n//10)\n",
    "    return prod1\n",
    "    \n",
    "prod(86)"
   ]
  },
  {
   "cell_type": "code",
   "execution_count": null,
   "id": "0d8b1d26",
   "metadata": {},
   "outputs": [],
   "source": []
  },
  {
   "cell_type": "markdown",
   "id": "f5968f48",
   "metadata": {},
   "source": [
    "Exercise No. 8"
   ]
  },
  {
   "cell_type": "code",
   "execution_count": 15,
   "id": "142a04b9",
   "metadata": {},
   "outputs": [
    {
     "data": {
      "text/plain": [
       "(6, 3)"
      ]
     },
     "execution_count": 15,
     "metadata": {},
     "output_type": "execute_result"
    }
   ],
   "source": [
    "# for this question I have got help from applied ai team.\n",
    "def mdr_and_Mpresistence(n):\n",
    "    count = 0\n",
    "    while n > 10:\n",
    "        n = prod(n)\n",
    "        count+=1\n",
    "    return n,count\n",
    "mdr_and_Mpresistence(86)    "
   ]
  },
  {
   "cell_type": "markdown",
   "id": "fcf90c34",
   "metadata": {},
   "source": [
    "Exercise No. 9"
   ]
  },
  {
   "cell_type": "code",
   "execution_count": 16,
   "id": "85019d91",
   "metadata": {},
   "outputs": [
    {
     "name": "stdout",
     "output_type": "stream",
     "text": [
      "1\n",
      "2\n",
      "5\n",
      "10\n",
      "25\n"
     ]
    }
   ],
   "source": [
    "def sumpdivisors(n):\n",
    "    for i in range (1,n):\n",
    "        if n % i == 0:\n",
    "            print(i)\n",
    "sumpdivisors(50)\n"
   ]
  },
  {
   "cell_type": "code",
   "execution_count": null,
   "id": "61f8e5c5",
   "metadata": {},
   "outputs": [],
   "source": []
  },
  {
   "cell_type": "markdown",
   "id": "17cf1d07",
   "metadata": {},
   "source": [
    "Exercise No. 10"
   ]
  },
  {
   "cell_type": "code",
   "execution_count": 17,
   "id": "9ac91657",
   "metadata": {},
   "outputs": [
    {
     "name": "stdout",
     "output_type": "stream",
     "text": [
      "number =  6 & sum of proper divisors =  6\n",
      "number =  28 & sum of proper divisors =  28\n",
      "number =  496 & sum of proper divisors =  496\n"
     ]
    }
   ],
   "source": [
    "for i in range(1,1000):\n",
    "    x = []\n",
    "    for j in range(1,i):\n",
    "        if i % j == 0:\n",
    "            x.append(int(j))\n",
    "    y = sum(x)\n",
    "    if i == y:\n",
    "        print(\"number = \",i,  \"& sum of proper divisors = \", y)\n",
    "    \n",
    "            "
   ]
  },
  {
   "cell_type": "code",
   "execution_count": null,
   "id": "13cadfd7",
   "metadata": {},
   "outputs": [],
   "source": []
  },
  {
   "cell_type": "markdown",
   "id": "8f756d17",
   "metadata": {},
   "source": [
    "Exercise No. 11"
   ]
  },
  {
   "cell_type": "code",
   "execution_count": 18,
   "id": "685456c0",
   "metadata": {},
   "outputs": [],
   "source": [
    "# for this question I have got help from applied ai team\n",
    "def sum_proper_div(num):\n",
    "    sum1 = 0\n",
    "    for i in range(1,num):\n",
    "        if num % i == 0:\n",
    "            sum1+=i\n",
    "    return sum1"
   ]
  },
  {
   "cell_type": "code",
   "execution_count": 19,
   "id": "f69e2203",
   "metadata": {},
   "outputs": [
    {
     "name": "stdout",
     "output_type": "stream",
     "text": [
      "[[6, 6], [28, 28], [220, 220], [284, 284], [496, 496]]\n"
     ]
    }
   ],
   "source": [
    "n = 1000\n",
    "lst = []\n",
    "for i in range(1,n):\n",
    "    x = sum_proper_div(i)\n",
    "    y = sum_proper_div(x)\n",
    "    if y==i:\n",
    "        lst.append([i,y])\n",
    "print(lst)\n",
    "    "
   ]
  },
  {
   "cell_type": "markdown",
   "id": "3e252a15",
   "metadata": {},
   "source": [
    "Exercise No. 12"
   ]
  },
  {
   "cell_type": "code",
   "execution_count": 20,
   "id": "c19d6418",
   "metadata": {},
   "outputs": [],
   "source": [
    "def even_numbers(num):\n",
    "    if num % 2 == 0:\n",
    "        return num\n",
    "    "
   ]
  },
  {
   "cell_type": "code",
   "execution_count": 21,
   "id": "074666b9",
   "metadata": {},
   "outputs": [
    {
     "data": {
      "text/plain": [
       "[2, 4, 6, 8, 10, 12, 14, 16, 18, 20, 22, 24]"
      ]
     },
     "execution_count": 21,
     "metadata": {},
     "output_type": "execute_result"
    }
   ],
   "source": [
    "filter_lst = range(25)\n",
    "even_number_list = list(filter(even_numbers, filter_lst))\n",
    "even_number_list"
   ]
  },
  {
   "cell_type": "code",
   "execution_count": null,
   "id": "b48fddcc",
   "metadata": {},
   "outputs": [],
   "source": []
  },
  {
   "cell_type": "markdown",
   "id": "cb76e360",
   "metadata": {},
   "source": [
    "Exercise No. 13"
   ]
  },
  {
   "cell_type": "code",
   "execution_count": 22,
   "id": "422f5148",
   "metadata": {},
   "outputs": [],
   "source": [
    "def cube_of_numbers(num):\n",
    "    return num**3\n",
    "        "
   ]
  },
  {
   "cell_type": "code",
   "execution_count": 23,
   "id": "6caec71e",
   "metadata": {},
   "outputs": [
    {
     "data": {
      "text/plain": [
       "[0, 1, 8, 27, 64, 125, 216, 343, 512, 729]"
      ]
     },
     "execution_count": 23,
     "metadata": {},
     "output_type": "execute_result"
    }
   ],
   "source": [
    "map_lst = range(10)\n",
    "cube_of_numbers_list = list(map(cube_of_numbers, map_lst))\n",
    "cube_of_numbers_list"
   ]
  },
  {
   "cell_type": "markdown",
   "id": "3621a1ae",
   "metadata": {},
   "source": [
    "Exercise No. 14"
   ]
  },
  {
   "cell_type": "code",
   "execution_count": 24,
   "id": "59322ef7",
   "metadata": {},
   "outputs": [
    {
     "data": {
      "text/plain": [
       "[8, 64, 216, 512, 1000, 1728, 2744, 4096, 5832, 8000, 10648, 13824]"
      ]
     },
     "execution_count": 24,
     "metadata": {},
     "output_type": "execute_result"
    }
   ],
   "source": [
    "lst = range(25)\n",
    "even_number_list = list(filter(even_numbers, filter_lst))\n",
    "cube_of_even_numbers_list = list(map(cube_of_numbers, even_number_list))\n",
    "cube_of_even_numbers_list"
   ]
  },
  {
   "cell_type": "code",
   "execution_count": null,
   "id": "aea6a023",
   "metadata": {},
   "outputs": [],
   "source": []
  }
 ],
 "metadata": {
  "kernelspec": {
   "display_name": "Python 3",
   "language": "python",
   "name": "python3"
  },
  "language_info": {
   "codemirror_mode": {
    "name": "ipython",
    "version": 3
   },
   "file_extension": ".py",
   "mimetype": "text/x-python",
   "name": "python",
   "nbconvert_exporter": "python",
   "pygments_lexer": "ipython3",
   "version": "3.8.8"
  }
 },
 "nbformat": 4,
 "nbformat_minor": 5
}
